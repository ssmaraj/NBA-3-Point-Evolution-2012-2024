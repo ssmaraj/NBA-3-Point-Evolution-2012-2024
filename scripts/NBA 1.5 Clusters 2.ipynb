{
 "cells": [
  {
   "cell_type": "code",
   "execution_count": 5,
   "id": "dc000b79-2fce-46c1-85ee-5ec789700c37",
   "metadata": {},
   "outputs": [],
   "source": [
    "import pandas as pd\n",
    "import numpy as np\n",
    "import matplotlib.pyplot as plt\n",
    "import seaborn as sns\n",
    "import os\n",
    "from sklearn.impute import SimpleImputer\n",
    "from sklearn.preprocessing import StandardScaler\n",
    "from sklearn.cluster import KMeans"
   ]
  },
  {
   "cell_type": "code",
   "execution_count": 2,
   "id": "59abbbc8-4506-4cf9-b4b3-f24d6cc8a46d",
   "metadata": {},
   "outputs": [],
   "source": [
    "path= '/Users/shantamaraj/Desktop/Basketball Analytics/Processed Data/3pt_clusters_clean.csv'"
   ]
  },
  {
   "cell_type": "code",
   "execution_count": 6,
   "id": "45301d89-1730-4db9-a57c-aa3ab9547450",
   "metadata": {},
   "outputs": [],
   "source": [
    "df = pd.read_csv(path)"
   ]
  },
  {
   "cell_type": "code",
   "execution_count": 7,
   "id": "26098fda-832b-43ff-ac81-7a73a74c4c8e",
   "metadata": {},
   "outputs": [
    {
     "data": {
      "text/plain": [
       "(8046, 17)"
      ]
     },
     "execution_count": 7,
     "metadata": {},
     "output_type": "execute_result"
    }
   ],
   "source": [
    "df.shape"
   ]
  },
  {
   "cell_type": "code",
   "execution_count": 8,
   "id": "3106ce48-f183-4db7-86de-c685eb36bd42",
   "metadata": {},
   "outputs": [
    {
     "data": {
      "text/plain": [
       "Index(['season_start', 'season_end', 'player', 'team', 'games_played',\n",
       "       'minutes_played', '3_pts_makes', '3_pts_attempts', '3_pts_percentage',\n",
       "       'assists', 'turnovers', 'total_points', 'cluster', 'team_fullname',\n",
       "       'city', 'state', 'country'],\n",
       "      dtype='object')"
      ]
     },
     "execution_count": 8,
     "metadata": {},
     "output_type": "execute_result"
    }
   ],
   "source": [
    "df.columns"
   ]
  },
  {
   "cell_type": "code",
   "execution_count": 9,
   "id": "e4dd6040-22bf-4510-8642-10e420f290d5",
   "metadata": {},
   "outputs": [],
   "source": [
    "# Drop outdated cluster column\n",
    "df = df.drop(columns=['cluster'], errors='ignore')"
   ]
  },
  {
   "cell_type": "code",
   "execution_count": 10,
   "id": "26d8a20e-9b68-4824-858d-5172c21d39a5",
   "metadata": {},
   "outputs": [
    {
     "data": {
      "text/plain": [
       "Index(['season_start', 'season_end', 'player', 'team', 'games_played',\n",
       "       'minutes_played', '3_pts_makes', '3_pts_attempts', '3_pts_percentage',\n",
       "       'assists', 'turnovers', 'total_points', 'team_fullname', 'city',\n",
       "       'state', 'country'],\n",
       "      dtype='object')"
      ]
     },
     "execution_count": 10,
     "metadata": {},
     "output_type": "execute_result"
    }
   ],
   "source": [
    "df.columns"
   ]
  },
  {
   "cell_type": "code",
   "execution_count": 11,
   "id": "4f198a1b-2ae5-4892-b01d-6d19b676333d",
   "metadata": {},
   "outputs": [
    {
     "name": "stdout",
     "output_type": "stream",
     "text": [
      "Cluster distribution:\n",
      "cluster\n",
      "1    4188\n",
      "2    2278\n",
      "0    1580\n",
      "Name: count, dtype: int64\n",
      "✅ Exported updated 3-cluster dataset to: /Users/shantamaraj/Desktop/Basketball Analytics/Processed Data/3pt_clusters_clean.csv\n"
     ]
    }
   ],
   "source": [
    "# Select key performance metrics\n",
    "features = ['3_pts_makes', '3_pts_attempts', '3_pts_percentage', 'total_points']\n",
    "\n",
    "# Scale features\n",
    "scaler = StandardScaler()\n",
    "X_scaled = scaler.fit_transform(df[features])\n",
    "\n",
    "# Fit K-Means model\n",
    "kmeans = KMeans(n_clusters=3, random_state=42, n_init=10)\n",
    "df['cluster'] = kmeans.fit_predict(X_scaled)\n",
    "\n",
    "# Check new cluster distribution\n",
    "print(\"Cluster distribution:\")\n",
    "print(df['cluster'].value_counts())\n",
    "\n",
    "# Optional: assign readable names\n",
    "cluster_names = {0: 'Volume Shooters', 1: 'Balanced Offense', 2: 'Efficient Scorers'}\n",
    "df['cluster_label'] = df['cluster'].map(cluster_names)\n",
    "\n",
    "# Export to Tableau-ready file\n",
    "output_path = '/Users/shantamaraj/Desktop/Basketball Analytics/Processed Data/3pt_clusters_clean.csv'\n",
    "df.to_csv(output_path, index=False)\n",
    "print(f\"✅ Exported updated 3-cluster dataset to: {output_path}\")"
   ]
  },
  {
   "cell_type": "code",
   "execution_count": null,
   "id": "a071107a-73b9-400d-8943-15c65d5129d5",
   "metadata": {},
   "outputs": [],
   "source": []
  }
 ],
 "metadata": {
  "kernelspec": {
   "display_name": "Python 3 (ipykernel)",
   "language": "python",
   "name": "python3"
  },
  "language_info": {
   "codemirror_mode": {
    "name": "ipython",
    "version": 3
   },
   "file_extension": ".py",
   "mimetype": "text/x-python",
   "name": "python",
   "nbconvert_exporter": "python",
   "pygments_lexer": "ipython3",
   "version": "3.12.7"
  }
 },
 "nbformat": 4,
 "nbformat_minor": 5
}
